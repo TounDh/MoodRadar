{
 "cells": [
  {
   "cell_type": "code",
   "execution_count": 21,
   "id": "0958b3dc",
   "metadata": {},
   "outputs": [
    {
     "name": "stderr",
     "output_type": "stream",
     "text": [
      "C:\\Users\\Dhoha\\AppData\\Local\\Temp\\ipykernel_14964\\2960264809.py:21: MarkupResemblesLocatorWarning: The input looks more like a filename than markup. You may want to open this file and pass the filehandle into Beautiful Soup.\n",
      "  return BeautifulSoup(text, \"lxml\").text\n"
     ]
    },
    {
     "data": {
      "text/html": [
       "<div>\n",
       "<style scoped>\n",
       "    .dataframe tbody tr th:only-of-type {\n",
       "        vertical-align: middle;\n",
       "    }\n",
       "\n",
       "    .dataframe tbody tr th {\n",
       "        vertical-align: top;\n",
       "    }\n",
       "\n",
       "    .dataframe thead th {\n",
       "        text-align: right;\n",
       "    }\n",
       "</style>\n",
       "<table border=\"1\" class=\"dataframe\">\n",
       "  <thead>\n",
       "    <tr style=\"text-align: right;\">\n",
       "      <th></th>\n",
       "      <th>text_clean</th>\n",
       "      <th>sentiment</th>\n",
       "    </tr>\n",
       "  </thead>\n",
       "  <tbody>\n",
       "    <tr>\n",
       "      <th>0</th>\n",
       "      <td>@VirginAmerica What @dhepburn said.</td>\n",
       "      <td>0</td>\n",
       "    </tr>\n",
       "    <tr>\n",
       "      <th>2</th>\n",
       "      <td>@VirginAmerica I didn't today... Must mean I n...</td>\n",
       "      <td>0</td>\n",
       "    </tr>\n",
       "    <tr>\n",
       "      <th>3</th>\n",
       "      <td>@VirginAmerica it's really aggressive to blast...</td>\n",
       "      <td>1</td>\n",
       "    </tr>\n",
       "    <tr>\n",
       "      <th>4</th>\n",
       "      <td>@VirginAmerica and it's a really big bad thing...</td>\n",
       "      <td>1</td>\n",
       "    </tr>\n",
       "    <tr>\n",
       "      <th>5</th>\n",
       "      <td>@VirginAmerica seriously would pay $30 a fligh...</td>\n",
       "      <td>1</td>\n",
       "    </tr>\n",
       "    <tr>\n",
       "      <th>...</th>\n",
       "      <td>...</td>\n",
       "      <td>...</td>\n",
       "    </tr>\n",
       "    <tr>\n",
       "      <th>14634</th>\n",
       "      <td>@AmericanAir right on cue with the delays👌</td>\n",
       "      <td>1</td>\n",
       "    </tr>\n",
       "    <tr>\n",
       "      <th>14636</th>\n",
       "      <td>@AmericanAir leaving over 20 minutes Late Flig...</td>\n",
       "      <td>1</td>\n",
       "    </tr>\n",
       "    <tr>\n",
       "      <th>14637</th>\n",
       "      <td>@AmericanAir Please bring American Airlines to...</td>\n",
       "      <td>0</td>\n",
       "    </tr>\n",
       "    <tr>\n",
       "      <th>14638</th>\n",
       "      <td>@AmericanAir you have my money, you change my ...</td>\n",
       "      <td>1</td>\n",
       "    </tr>\n",
       "    <tr>\n",
       "      <th>14639</th>\n",
       "      <td>@AmericanAir we have 8 ppl so we need 2 know h...</td>\n",
       "      <td>0</td>\n",
       "    </tr>\n",
       "  </tbody>\n",
       "</table>\n",
       "<p>13651 rows × 2 columns</p>\n",
       "</div>"
      ],
      "text/plain": [
       "                                              text_clean  sentiment\n",
       "0                    @VirginAmerica What @dhepburn said.          0\n",
       "2      @VirginAmerica I didn't today... Must mean I n...          0\n",
       "3      @VirginAmerica it's really aggressive to blast...          1\n",
       "4      @VirginAmerica and it's a really big bad thing...          1\n",
       "5      @VirginAmerica seriously would pay $30 a fligh...          1\n",
       "...                                                  ...        ...\n",
       "14634         @AmericanAir right on cue with the delays👌          1\n",
       "14636  @AmericanAir leaving over 20 minutes Late Flig...          1\n",
       "14637  @AmericanAir Please bring American Airlines to...          0\n",
       "14638  @AmericanAir you have my money, you change my ...          1\n",
       "14639  @AmericanAir we have 8 ppl so we need 2 know h...          0\n",
       "\n",
       "[13651 rows x 2 columns]"
      ]
     },
     "execution_count": 21,
     "metadata": {},
     "output_type": "execute_result"
    }
   ],
   "source": [
    "#Part1: preprocessing\n",
    "#1\n",
    "import numpy as np\n",
    "import pandas as pd\n",
    "import matplotlib.pyplot as plt\n",
    "import seaborn as sns\n",
    "from bs4 import BeautifulSoup\n",
    "\n",
    "#3\n",
    "data_import = pd.read_csv(\"Tweets.csv\")\n",
    "data = data_import.copy() #I'm working with a copy of the dataset (to avoid modifying the original dataset)\n",
    "\n",
    "#4\n",
    "data = data[data['airline_sentiment_confidence'] > 0.65]\n",
    "\n",
    "#5\n",
    "data['sentiment'] = data['airline_sentiment'].map({'neutral': 0, 'positive': 0, 'negative': 1})\n",
    "\n",
    "#6\n",
    "#In the column 'text', we can find some tags like (amp;) that belong to html error avoidance. They need to be removed! How? BeautifulSoup.\n",
    "def clean(text):\n",
    "    return BeautifulSoup(text, \"lxml\").text \n",
    "#parser = analyseur: ywadha7 html/xml doc ki yabda fyh text+tags so that Python makes sense of it.\n",
    "#lxml is a parser that supports both html and xml docs => flexibility \n",
    "data['text_clean'] = data['text'].apply(clean)\n",
    "\n",
    "#7\n",
    "data = data.loc[:,['text_clean', 'sentiment']]\n",
    "data"
   ]
  },
  {
   "cell_type": "code",
   "execution_count": 22,
   "id": "1da959a2",
   "metadata": {},
   "outputs": [
    {
     "name": "stderr",
     "output_type": "stream",
     "text": [
      "[nltk_data] Downloading package stopwords to C:\\nltk_data...\n",
      "[nltk_data]   Package stopwords is already up-to-date!\n",
      "C:\\Users\\Dhoha\\anaconda3\\Lib\\site-packages\\sklearn\\feature_extraction\\text.py:525: UserWarning: The parameter 'token_pattern' will not be used since 'tokenizer' is not None'\n",
      "  warnings.warn(\n"
     ]
    },
    {
     "data": {
      "text/plain": [
       "0.9706248626474251"
      ]
     },
     "execution_count": 22,
     "metadata": {},
     "output_type": "execute_result"
    }
   ],
   "source": [
    "#Part2: model building\n",
    "from sklearn.model_selection import train_test_split\n",
    "\n",
    "#1\n",
    "train, test = train_test_split(\n",
    "    data, \n",
    "    test_size=0.2, \n",
    "    random_state=1)\n",
    "\n",
    "#2\n",
    "X_train = data['text_clean'].values\n",
    "X_test = data['text_clean'].values\n",
    "y_train = data['sentiment']\n",
    "y_test = data['sentiment']\n",
    "\n",
    "#3\n",
    "import nltk #nltk is a library specialized in working with human language data\n",
    "from nltk.tokenize import TweetTokenizer #this module helps splitting the text into words\n",
    "from nltk.stem import PorterStemmer #PorterStemmer to reduce words to their root form (it helps with the performance of the algorithme)\n",
    "\n",
    "\n",
    "#tokenization function\n",
    "def tkn(txt):\n",
    "    tokenizer = TweetTokenizer()\n",
    "    tokens = tokenizer.tokenize(txt)\n",
    "    return tokens \n",
    "#stemming function\n",
    "def stm(word):\n",
    "    stemmer = PorterStemmer()\n",
    "    return [stemmer.stem(w) for w in tkn(word)]\n",
    "\n",
    "#4\n",
    "#stopwords are words with little value to the accuracy of the algorithm\n",
    "from nltk.corpus import stopwords\n",
    "nltk.download('stopwords')\n",
    "ESW = list(stopwords.words('english'))\n",
    "\n",
    "#5\n",
    "from sklearn.feature_extraction.text import CountVectorizer #this library helps transforming our data into a numerical representation!\n",
    "#numerical conversion is crucial for ML algorithm\n",
    "\n",
    "vzr = CountVectorizer(\n",
    "    analyzer = 'word',#word level tokenization\n",
    "    tokenizer = tkn,\n",
    "    lowercase = True,\n",
    "    ngram_range = (1, 1),\n",
    "    stop_words = ESW\n",
    ")\n",
    "\n",
    "#6\n",
    "from sklearn.model_selection import StratifiedKFold\n",
    "\n",
    "SKF = StratifiedKFold(n_splits=5, shuffle=True, random_state=42)\n",
    "#Using StratifiedKFold assure maintaining the same distribution of classes in each Fold (for more relevant training)\n",
    "\n",
    "#7\n",
    "np.random.seed(1) #ensures getting the same result with each code execution\n",
    "\n",
    "#8\n",
    "from sklearn.pipeline import make_pipeline\n",
    "from sklearn.svm import SVC\n",
    "\n",
    "ppln = make_pipeline(\n",
    "    vzr,\n",
    "    SVC(\n",
    "        probability=True,\n",
    "        kernel=\"linear\",\n",
    "        class_weight=\"balanced\"\n",
    "    )\n",
    ")\n",
    "\n",
    "ppln.fit(X_train, y_train)\n",
    "ppln.score(X_test, y_test)\n",
    "\n"
   ]
  },
  {
   "cell_type": "code",
   "execution_count": 29,
   "id": "1d6da756",
   "metadata": {},
   "outputs": [
    {
     "data": {
      "text/plain": [
       "{'AUC': 0.9926664194039639,\n",
       " 'Accuracy': 0.9706248626474251,\n",
       " 'F1_score': 0.9769075727037143,\n",
       " 'Precision': 0.9888085800885987,\n",
       " 'Recall': 0.965289632411517}"
      ]
     },
     "execution_count": 29,
     "metadata": {},
     "output_type": "execute_result"
    }
   ],
   "source": [
    "#9\n",
    "from sklearn.metrics import accuracy_score, f1_score, precision_score, recall_score, roc_auc_score\n",
    "\n",
    "def report_results(model, a, b):\n",
    "    \n",
    "    prdc = model.predict(a)\n",
    "    acc = accuracy_score(b, prdc)\n",
    "    prec = precision_score(b, prdc)\n",
    "    recall = recall_score(b, prdc)\n",
    "    fscore = f1_score(b, prdc)\n",
    "    \n",
    "    prdc_proba = model.predict_proba(a)[:,1]\n",
    "    auc = roc_auc_score(b, prdc_proba)#a metric of how well the model distinguishes between positive and negative instances\n",
    "    \n",
    "    res = {'AUC': auc, 'Accuracy': acc, 'F1_score': fscore, 'Precision': prec, 'Recall': recall}\n",
    "    return res\n",
    "\n",
    "report_results(ppln, X_test, y_test)\n",
    "\n"
   ]
  },
  {
   "cell_type": "code",
   "execution_count": 27,
   "id": "00d15183",
   "metadata": {},
   "outputs": [
    {
     "data": {
      "image/png": "[encoded data removed]",
      "text/plain": [
       "<Figure size 1800x800 with 1 Axes>"
      ]
     },
     "metadata": {},
     "output_type": "display_data"
    }
   ],
   "source": [
    "#10\n",
    "from sklearn.metrics import roc_curve \n",
    "\n",
    "def get_roc_curve(model, a, b):\n",
    "    prdc_proba = model.predict_proba(a)[:,1]\n",
    "    fpr, tpr, _ = roc_curve(b, prdc_proba)\n",
    "    return fpr, tpr\n",
    "\n",
    "#11\n",
    "import matplotlib.pyplot as plt\n",
    "\n",
    "plt.figure(figsize=(18,8))\n",
    "fpr, tpr = get_roc_curve(ppln, X_test, y_test)\n",
    "plt.plot(fpr, tpr, color='blue', lw=2)#a visual representation of the model's performance.\n",
    "plt.plot([0, 1], [0, 1], color='gray', linestyle='--')#a line that represents the minimum acceptable performance by a classifier (un repère) \n",
    "\n",
    "plt.xlabel('False positive rate')\n",
    "plt.ylabel('True positive rate')\n",
    "plt.title('Model performance visual')\n",
    "\n",
    "#12\n",
    "plt.show()"
   ]
  },
  {
   "cell_type": "code",
   "execution_count": 38,
   "id": "b9af02b7",
   "metadata": {},
   "outputs": [
    {
     "data": {
      "text/plain": [
       "array([0], dtype=int64)"
      ]
     },
     "execution_count": 38,
     "metadata": {},
     "output_type": "execute_result"
    }
   ],
   "source": [
    "ppln.predict([\"@united stupidly awsome experience!\"])"
   ]
  },
  {
   "cell_type": "code",
   "execution_count": null,
   "id": "28f1b156",
   "metadata": {},
   "outputs": [],
   "source": []
  }
 ],
 "metadata": {
  "kernelspec": {
   "display_name": "Python 3 (ipykernel)",
   "language": "python",
   "name": "python3"
  },
  "language_info": {
   "codemirror_mode": {
    "name": "ipython",
    "version": 3
   },
   "file_extension": ".py",
   "mimetype": "text/x-python",
   "name": "python",
   "nbconvert_exporter": "python",
   "pygments_lexer": "ipython3",
   "version": "3.11.5"
  }
 },
 "nbformat": 4,
 "nbformat_minor": 5
}
